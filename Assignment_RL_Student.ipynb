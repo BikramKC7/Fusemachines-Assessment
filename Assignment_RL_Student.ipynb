{
  "cells": [
    {
      "cell_type": "markdown",
      "metadata": {
        "id": "view-in-github",
        "colab_type": "text"
      },
      "source": [
        "<a href=\"https://colab.research.google.com/github/BikramKC7/Fusemachines-Assessment/blob/main/Assignment_RL_Student.ipynb\" target=\"_parent\"><img src=\"https://colab.research.google.com/assets/colab-badge.svg\" alt=\"Open In Colab\"/></a>"
      ]
    },
    {
      "cell_type": "markdown",
      "metadata": {
        "id": "21cJSRf0goW2"
      },
      "source": [
        "# Representation Learning Assignment\n",
        "This assignment covers key topics in representation learning using PyTorch datasets. You will implement tasks for Contrastive Learning, Energy-Based Models. Use torchvision.datasets.MNIST for Exercises 1, 2.\n",
        "\n",
        "**Total Points: 12**\n",
        "- Exercise 1: Contrastive Learning (8 points)\n",
        "- Exercise 2: Energy-Based Models (4 points)\n",
        "\n",
        "Import necessary libraries and load datasets as needed.\n"
      ]
    },
    {
      "cell_type": "code",
      "execution_count": 1,
      "metadata": {
        "id": "BQeH-75RgoW5",
        "outputId": "545dfb47-48c4-4a2b-c488-26f95d8d941a",
        "colab": {
          "base_uri": "https://localhost:8080/"
        }
      },
      "outputs": [
        {
          "output_type": "stream",
          "name": "stdout",
          "text": [
            "Looking in indexes: https://pypi.org/simple, https://download.pytorch.org/whl/cpu\n",
            "Requirement already satisfied: torch in /usr/local/lib/python3.12/dist-packages (2.8.0+cu126)\n",
            "Requirement already satisfied: torchvision in /usr/local/lib/python3.12/dist-packages (0.23.0+cu126)\n",
            "Requirement already satisfied: filelock in /usr/local/lib/python3.12/dist-packages (from torch) (3.19.1)\n",
            "Requirement already satisfied: typing-extensions>=4.10.0 in /usr/local/lib/python3.12/dist-packages (from torch) (4.15.0)\n",
            "Requirement already satisfied: setuptools in /usr/local/lib/python3.12/dist-packages (from torch) (75.2.0)\n",
            "Requirement already satisfied: sympy>=1.13.3 in /usr/local/lib/python3.12/dist-packages (from torch) (1.13.3)\n",
            "Requirement already satisfied: networkx in /usr/local/lib/python3.12/dist-packages (from torch) (3.5)\n",
            "Requirement already satisfied: jinja2 in /usr/local/lib/python3.12/dist-packages (from torch) (3.1.6)\n",
            "Requirement already satisfied: fsspec in /usr/local/lib/python3.12/dist-packages (from torch) (2025.3.0)\n",
            "Requirement already satisfied: nvidia-cuda-nvrtc-cu12==12.6.77 in /usr/local/lib/python3.12/dist-packages (from torch) (12.6.77)\n",
            "Requirement already satisfied: nvidia-cuda-runtime-cu12==12.6.77 in /usr/local/lib/python3.12/dist-packages (from torch) (12.6.77)\n",
            "Requirement already satisfied: nvidia-cuda-cupti-cu12==12.6.80 in /usr/local/lib/python3.12/dist-packages (from torch) (12.6.80)\n",
            "Requirement already satisfied: nvidia-cudnn-cu12==9.10.2.21 in /usr/local/lib/python3.12/dist-packages (from torch) (9.10.2.21)\n",
            "Requirement already satisfied: nvidia-cublas-cu12==12.6.4.1 in /usr/local/lib/python3.12/dist-packages (from torch) (12.6.4.1)\n",
            "Requirement already satisfied: nvidia-cufft-cu12==11.3.0.4 in /usr/local/lib/python3.12/dist-packages (from torch) (11.3.0.4)\n",
            "Requirement already satisfied: nvidia-curand-cu12==10.3.7.77 in /usr/local/lib/python3.12/dist-packages (from torch) (10.3.7.77)\n",
            "Requirement already satisfied: nvidia-cusolver-cu12==11.7.1.2 in /usr/local/lib/python3.12/dist-packages (from torch) (11.7.1.2)\n",
            "Requirement already satisfied: nvidia-cusparse-cu12==12.5.4.2 in /usr/local/lib/python3.12/dist-packages (from torch) (12.5.4.2)\n",
            "Requirement already satisfied: nvidia-cusparselt-cu12==0.7.1 in /usr/local/lib/python3.12/dist-packages (from torch) (0.7.1)\n",
            "Requirement already satisfied: nvidia-nccl-cu12==2.27.3 in /usr/local/lib/python3.12/dist-packages (from torch) (2.27.3)\n",
            "Requirement already satisfied: nvidia-nvtx-cu12==12.6.77 in /usr/local/lib/python3.12/dist-packages (from torch) (12.6.77)\n",
            "Requirement already satisfied: nvidia-nvjitlink-cu12==12.6.85 in /usr/local/lib/python3.12/dist-packages (from torch) (12.6.85)\n",
            "Requirement already satisfied: nvidia-cufile-cu12==1.11.1.6 in /usr/local/lib/python3.12/dist-packages (from torch) (1.11.1.6)\n",
            "Requirement already satisfied: triton==3.4.0 in /usr/local/lib/python3.12/dist-packages (from torch) (3.4.0)\n",
            "Requirement already satisfied: numpy in /usr/local/lib/python3.12/dist-packages (from torchvision) (2.0.2)\n",
            "Requirement already satisfied: pillow!=8.3.*,>=5.3.0 in /usr/local/lib/python3.12/dist-packages (from torchvision) (11.3.0)\n",
            "Requirement already satisfied: mpmath<1.4,>=1.1.0 in /usr/local/lib/python3.12/dist-packages (from sympy>=1.13.3->torch) (1.3.0)\n",
            "Requirement already satisfied: MarkupSafe>=2.0 in /usr/local/lib/python3.12/dist-packages (from jinja2->torch) (3.0.2)\n",
            "\u001b[2K     \u001b[90m━━━━━━━━━━━━━━━━━━━━━━━━━━━━━━━━━━━━━━━━\u001b[0m \u001b[32m63.1/63.1 kB\u001b[0m \u001b[31m3.6 MB/s\u001b[0m eta \u001b[36m0:00:00\u001b[0m\n",
            "\u001b[2K   \u001b[90m━━━━━━━━━━━━━━━━━━━━━━━━━━━━━━━━━━━━━━━━\u001b[0m \u001b[32m1.1/1.1 MB\u001b[0m \u001b[31m60.9 MB/s\u001b[0m eta \u001b[36m0:00:00\u001b[0m\n",
            "\u001b[?25hTorch: 2.8.0+cu126 Torchvision: 0.23.0+cu126\n",
            "Using device: cuda\n"
          ]
        }
      ],
      "source": [
        "# --- Install dependencies (CPU-only build by default) ---\n",
        "!pip install torch torchvision --extra-index-url https://download.pytorch.org/whl/cpu\n",
        "!pip install -q torch_geometric\n",
        "\n",
        "# --- Imports ---\n",
        "import torch\n",
        "import torch.nn as nn\n",
        "import torch.nn.functional as F\n",
        "import torchvision\n",
        "from torchvision import datasets, transforms\n",
        "from torch.utils.data import Subset, DataLoader\n",
        "\n",
        "print(\"Torch:\", torch.__version__, \"Torchvision:\", torchvision.__version__)\n",
        "device = torch.device(\"cuda\" if torch.cuda.is_available() else \"cpu\")\n",
        "print(\"Using device:\", device)"
      ]
    },
    {
      "cell_type": "code",
      "execution_count": 2,
      "metadata": {
        "id": "SAIzmBz8goW6",
        "outputId": "96913a5f-0b15-4569-a8bb-0e1bf508a7a7",
        "colab": {
          "base_uri": "https://localhost:8080/"
        }
      },
      "outputs": [
        {
          "output_type": "stream",
          "name": "stderr",
          "text": [
            "100%|██████████| 9.91M/9.91M [00:01<00:00, 5.11MB/s]\n",
            "100%|██████████| 28.9k/28.9k [00:00<00:00, 133kB/s]\n",
            "100%|██████████| 1.65M/1.65M [00:01<00:00, 1.27MB/s]\n",
            "100%|██████████| 4.54k/4.54k [00:00<00:00, 8.28MB/s]"
          ]
        },
        {
          "output_type": "stream",
          "name": "stdout",
          "text": [
            "MNIST Train Subset: 1000 samples\n",
            "MNIST Test Subset: 200 samples\n"
          ]
        },
        {
          "output_type": "stream",
          "name": "stderr",
          "text": [
            "\n"
          ]
        }
      ],
      "source": [
        "# --- MNIST (for Exercises 1, 2) ---\n",
        "mnist_transform = transforms.ToTensor()\n",
        "\n",
        "mnist_train_full = datasets.MNIST(\n",
        "    root=\"./data\", train=True, download=True, transform=mnist_transform\n",
        ")\n",
        "mnist_test_full = datasets.MNIST(\n",
        "    root=\"./data\", train=False, download=True, transform=mnist_transform\n",
        ")\n",
        "\n",
        "# Smaller subsets for quicker experiments\n",
        "train_indices = list(range(1000))\n",
        "test_indices = list(range(200))\n",
        "\n",
        "mnist_train = Subset(mnist_train_full, train_indices)\n",
        "mnist_test = Subset(mnist_test_full, test_indices)\n",
        "\n",
        "print(f\"MNIST Train Subset: {len(mnist_train)} samples\")\n",
        "print(f\"MNIST Test Subset: {len(mnist_test)} samples\")"
      ]
    },
    {
      "cell_type": "markdown",
      "metadata": {
        "id": "ZAjmmOpAgoW7"
      },
      "source": [
        "## Exercise 1: Contrastive Learning (8 points)\n",
        "\n",
        "We’ll simulate contrastive learning on MNIST images by computing similarities, pairs, and losses.\n",
        "\n",
        "### Task 1a (1 point): Cosine Similarity\n",
        "\n",
        "Compute row-wise cosine similarity between two batches of embeddings."
      ]
    },
    {
      "cell_type": "code",
      "execution_count": 7,
      "metadata": {
        "deletable": false,
        "id": "tLjWxqcdgoW7",
        "nbgrader": {
          "cell_type": "code",
          "checksum": "24ae4d741612fabeca9b83cbc463579f",
          "grade": false,
          "grade_id": "Ex-1-Task-1",
          "locked": false,
          "schema_version": 3,
          "solution": true,
          "task": false
        },
        "outputId": "86718183-541c-4ef2-c2b0-b723b3a24d3e",
        "colab": {
          "base_uri": "https://localhost:8080/"
        }
      },
      "outputs": [
        {
          "output_type": "stream",
          "name": "stdout",
          "text": [
            "tensor([1.0000, 1.0000, 1.0000, 1.0000, 1.0000])\n"
          ]
        }
      ],
      "source": [
        "### Ex-1-Task-1\n",
        "import torch\n",
        "import torch.nn.functional as F\n",
        "\n",
        "def compute_similarity(emb1, emb2):\n",
        "    \"\"\"\n",
        "    emb1, emb2: (B, D)\n",
        "    Returns: (B,) cosine similarities\n",
        "    \"\"\"\n",
        "    ### BEGIN SOLUTION\n",
        "    sims = F.cosine_similarity(emb1, emb2, dim=1)\n",
        "    return sims\n",
        "    ### END SOLUTION\n",
        "\n",
        "# Test\n",
        "x = torch.randn(5, 10)\n",
        "y = x.clone()\n",
        "print(compute_similarity(x, y))"
      ]
    },
    {
      "cell_type": "code",
      "execution_count": 4,
      "metadata": {
        "deletable": false,
        "editable": false,
        "id": "LO6rzOIDg1HO",
        "nbgrader": {
          "cell_type": "code",
          "checksum": "9c1cb20a3ed88b1732484adf9e968cf5",
          "grade": true,
          "grade_id": "cell-bdd95b33ae1de45e",
          "locked": true,
          "points": 1,
          "schema_version": 3,
          "solution": false,
          "task": false
        }
      },
      "outputs": [],
      "source": [
        "# INTENTIONALLY LEFT BLANK"
      ]
    },
    {
      "cell_type": "markdown",
      "metadata": {
        "id": "ltfv6KxbgoW7"
      },
      "source": [
        "### Task 1b: Positive & Negative Pairs (2 points)\n",
        "\n",
        "Generate positive pairs (same sample) and negative pairs (different sample) for a batch.\n",
        "Simulate negatives by randomly shuffling batch.\n"
      ]
    },
    {
      "cell_type": "code",
      "execution_count": 8,
      "metadata": {
        "deletable": false,
        "id": "D28iB2v8goW7",
        "nbgrader": {
          "cell_type": "code",
          "checksum": "debf3031749cae0578649c536ffd54b3",
          "grade": false,
          "grade_id": "Ex-1-Task-2",
          "locked": false,
          "schema_version": 3,
          "solution": true,
          "task": false
        },
        "outputId": "2d770e2f-4c3c-4248-d1d4-14a0e978b455",
        "colab": {
          "base_uri": "https://localhost:8080/"
        }
      },
      "outputs": [
        {
          "output_type": "stream",
          "name": "stdout",
          "text": [
            "Positive pairs:\n",
            " tensor([[ 1.5942,  0.6292,  1.0779,  1.5294, -1.3172, -0.9009,  0.6257,  0.1390],\n",
            "        [-0.3036, -0.7643,  0.5212, -0.5870,  0.2196,  0.8548,  0.3195, -1.3961],\n",
            "        [-0.3322,  0.0889,  0.8502, -0.0164, -1.0871, -0.3358,  0.2636,  0.0878],\n",
            "        [-1.2035, -2.8497, -1.7860,  0.2662,  2.1504, -0.6107, -0.9836, -0.4419],\n",
            "        [-0.2168, -1.5704, -0.9653, -0.0810,  1.0903, -0.0704, -1.8542,  0.8154]])\n",
            "Negative pairs:\n",
            " tensor([[ 1.5942,  0.6292,  1.0779,  1.5294, -1.3172, -0.9009,  0.6257,  0.1390],\n",
            "        [-1.2035, -2.8497, -1.7860,  0.2662,  2.1504, -0.6107, -0.9836, -0.4419],\n",
            "        [-0.2168, -1.5704, -0.9653, -0.0810,  1.0903, -0.0704, -1.8542,  0.8154],\n",
            "        [-0.3036, -0.7643,  0.5212, -0.5870,  0.2196,  0.8548,  0.3195, -1.3961],\n",
            "        [-0.3322,  0.0889,  0.8502, -0.0164, -1.0871, -0.3358,  0.2636,  0.0878]])\n"
          ]
        }
      ],
      "source": [
        "### Ex-1-Task-2\n",
        "def generate_pairs(batch):\n",
        "    \"\"\"\n",
        "    batch: (B, D)\n",
        "    Returns:\n",
        "        pos: (B, D)\n",
        "        neg: (B, D)\n",
        "    \"\"\"\n",
        "    ### BEGIN SOLUTION\n",
        "    pos = batch.clone()  # same sample = positive pair\n",
        "    # random permutation for negatives\n",
        "    indices = torch.randperm(batch.size(0))\n",
        "    neg = batch[indices]\n",
        "    return pos, neg\n",
        "    ### END SOLUTION\n",
        "\n",
        "# Test\n",
        "batch = torch.randn(5, 8)\n",
        "pos, neg = generate_pairs(batch)\n",
        "print(\"Positive pairs:\\n\", pos)\n",
        "print(\"Negative pairs:\\n\", neg)"
      ]
    },
    {
      "cell_type": "code",
      "execution_count": 6,
      "metadata": {
        "deletable": false,
        "editable": false,
        "nbgrader": {
          "cell_type": "code",
          "checksum": "fc44e527376b76b0601da4c5efd90d7f",
          "grade": true,
          "grade_id": "cell-958d6c0ca0f479d7",
          "locked": true,
          "points": 2,
          "schema_version": 3,
          "solution": false,
          "task": false
        },
        "id": "3-MGM8aO1NXU"
      },
      "outputs": [],
      "source": [
        "# INTENTIONALLY LEFT BLANK"
      ]
    },
    {
      "cell_type": "markdown",
      "metadata": {
        "id": "ktZeKiLbgoW8"
      },
      "source": [
        "### Task 1c:NT-Xent Loss (2 points)\n",
        "\n",
        "Implement normalized temperature-scaled cross-entropy loss for a batch."
      ]
    },
    {
      "cell_type": "code",
      "execution_count": 24,
      "metadata": {
        "deletable": false,
        "id": "EZgpgRU4goW8",
        "nbgrader": {
          "cell_type": "code",
          "checksum": "36a7c78d1d77a5361abc0ce95943e213",
          "grade": false,
          "grade_id": "Ex-1-Task-3",
          "locked": false,
          "schema_version": 3,
          "solution": true,
          "task": false
        },
        "outputId": "e7a7f651-5c12-4d30-dde7-b219078b01b2",
        "colab": {
          "base_uri": "https://localhost:8080/"
        }
      },
      "outputs": [
        {
          "output_type": "stream",
          "name": "stdout",
          "text": [
            "NT-Xent loss: tensor(2.2880)\n"
          ]
        }
      ],
      "source": [
        "### Ex-1-Task-3\n",
        "import torch\n",
        "import torch.nn.functional as F\n",
        "\n",
        "def nt_xent_loss(sims, temp=0.5):\n",
        "    \"\"\"\n",
        "    sims: (B, B) similarity matrix\n",
        "    temp: scalar temperature\n",
        "    Returns: scalar loss\n",
        "    \"\"\"\n",
        "    ### BEGIN SOLUTION\n",
        "    B = sims.size(0)\n",
        "    # scale by temperature\n",
        "    sims = sims / temp\n",
        "    # numerator: diagonal entries (positive pairs)\n",
        "    numerator = torch.exp(torch.diag(sims))\n",
        "    # denominator: sum over row excluding self\n",
        "    mask = torch.eye(B, dtype=torch.bool, device=sims.device)\n",
        "    exp_sims = torch.exp(sims) * (~mask)  # zero out diagonal\n",
        "    denom = exp_sims.sum(dim=1)\n",
        "    # compute loss\n",
        "    loss = -torch.log(numerator / (denom + 1e-8)).mean()\n",
        "    return loss\n",
        "    ### END SOLUTION\n",
        "\n",
        "# Test\n",
        "sims = torch.randn(3, 3)\n",
        "print(\"NT-Xent loss:\", nt_xent_loss(sims))"
      ]
    },
    {
      "cell_type": "code",
      "execution_count": 10,
      "metadata": {
        "id": "ZP3ak1m2goW8",
        "outputId": "a2cef729-fd4b-4553-adf6-5963ea4313eb",
        "colab": {
          "base_uri": "https://localhost:8080/"
        }
      },
      "outputs": [
        {
          "output_type": "stream",
          "name": "stdout",
          "text": [
            "NT-Xent loss: -0.9013876914978027\n"
          ]
        }
      ],
      "source": [
        "# Quick visible test with identity similarity\n",
        "sims = torch.eye(4)  # 4x4 identity matrix\n",
        "loss = nt_xent_loss(sims)\n",
        "print(\"NT-Xent loss:\", loss.item())  # Should be > 0\n"
      ]
    },
    {
      "cell_type": "code",
      "execution_count": 11,
      "metadata": {
        "deletable": false,
        "editable": false,
        "id": "UIxKevhqgoW8",
        "nbgrader": {
          "cell_type": "code",
          "checksum": "43a93f1a6fbc4dca56cca435bab8c21d",
          "grade": true,
          "grade_id": "cell-7430b1932fd2ce7e",
          "locked": true,
          "points": 2,
          "schema_version": 3,
          "solution": false,
          "task": false
        }
      },
      "outputs": [],
      "source": [
        "# INTENTIONALLY LEFT BLANK\n"
      ]
    },
    {
      "cell_type": "markdown",
      "metadata": {
        "id": "0KoVJQzegoW8"
      },
      "source": [
        "### Task 1d: Augment MNIST Image (2 points)\n",
        "\n",
        "Apply random small rotation ±10° to a single MNIST image.\n"
      ]
    },
    {
      "cell_type": "code",
      "execution_count": 22,
      "metadata": {
        "deletable": false,
        "id": "hJKVDeb0goW9",
        "nbgrader": {
          "cell_type": "code",
          "checksum": "5f724f326b4df6ddbb42a5c660157efe",
          "grade": false,
          "grade_id": "Ex-1-Task-4",
          "locked": false,
          "schema_version": 3,
          "solution": true,
          "task": false
        }
      },
      "outputs": [],
      "source": [
        "### Ex-1-Task-4\n",
        "from torchvision import transforms\n",
        "\n",
        "augment = transforms.RandomRotation(degrees=10)\n",
        "\n",
        "def augment_image(img):\n",
        "    \"\"\"\n",
        "    img: (28, 28) tensor\n",
        "    Returns: augmented image (28,28)\n",
        "    \"\"\"\n",
        "    ### BEGIN SOLUTION\n",
        "    # Add channel dimension\n",
        "    img = img.unsqueeze(0)  # (1,28,28)\n",
        "    # Apply rotation\n",
        "    aug_img = augment(img)\n",
        "    # Remove channel dimension to return (28,28)\n",
        "    aug_img = aug_img.squeeze(0)\n",
        "    return aug_img\n",
        "    ### END SOLUTION"
      ]
    },
    {
      "cell_type": "code",
      "execution_count": 13,
      "metadata": {
        "colab": {
          "base_uri": "https://localhost:8080/"
        },
        "id": "aIDXIpqO1NXV",
        "outputId": "ee7fc8c6-0d10-4f56-bcd1-632c58ab9bfc"
      },
      "outputs": [
        {
          "output_type": "stream",
          "name": "stdout",
          "text": [
            "Original shape: torch.Size([1, 28, 28])\n",
            "Augmented shape: torch.Size([28, 28])\n"
          ]
        }
      ],
      "source": [
        "img, label = mnist_train[0]\n",
        "aug_img = augment_image(img)\n",
        "print(\"Original shape:\", img.shape)\n",
        "print(\"Augmented shape:\", aug_img.shape)"
      ]
    },
    {
      "cell_type": "code",
      "execution_count": 14,
      "metadata": {
        "deletable": false,
        "editable": false,
        "nbgrader": {
          "cell_type": "code",
          "checksum": "9e4242842d39d4a3236919643539bb97",
          "grade": true,
          "grade_id": "cell-efa2b35e47081c5b",
          "locked": true,
          "points": 2,
          "schema_version": 3,
          "solution": false,
          "task": false
        },
        "id": "oK0MWJX91NXV"
      },
      "outputs": [],
      "source": [
        "# INTENTIONALLY LEFT BLANK"
      ]
    },
    {
      "cell_type": "markdown",
      "metadata": {
        "id": "26W9Su0LgoW9"
      },
      "source": [
        "### Task 1e: Contrastive Embedding Distance (1 point)\n",
        "\n",
        "Compute Euclidean distance between two batches of embeddings row-wise."
      ]
    },
    {
      "cell_type": "code",
      "execution_count": 15,
      "metadata": {
        "deletable": false,
        "id": "BLmz49WJgoW9",
        "nbgrader": {
          "cell_type": "code",
          "checksum": "0de2448a838e36a8a2ef6addb2e91a88",
          "grade": false,
          "grade_id": "Ex-1-Task-5",
          "locked": false,
          "schema_version": 3,
          "solution": true,
          "task": false
        },
        "outputId": "1dcf784d-006a-4f4e-8dfd-6cfd26655720",
        "colab": {
          "base_uri": "https://localhost:8080/"
        }
      },
      "outputs": [
        {
          "output_type": "stream",
          "name": "stdout",
          "text": [
            "Embeddings 1:\n",
            " tensor([[ 0.9018,  1.5010, -0.0951, -0.0545, -0.6905],\n",
            "        [-0.7705,  0.2701, -0.4488,  0.0722, -2.9518],\n",
            "        [ 0.9429,  1.3173, -0.6367,  0.2986, -1.3519],\n",
            "        [-1.0252, -0.1940, -0.2669, -0.5251, -2.2298]])\n",
            "Embeddings 2:\n",
            " tensor([[-0.2727, -0.6831,  1.3967, -0.8549, -0.5039],\n",
            "        [-0.2008, -1.4676,  0.3769,  0.6906,  0.1538],\n",
            "        [ 1.4579, -0.8969,  0.3466,  1.9297,  1.3521],\n",
            "        [-0.3813, -0.3001, -0.7675,  0.3332, -1.5757]])\n",
            "Row-wise Euclidean distances:\n",
            " tensor([3.0084, 3.7488, 4.0133, 1.3568])\n"
          ]
        }
      ],
      "source": [
        "### Ex-1-Task-5\n",
        "import torch\n",
        "\n",
        "def embedding_distance(emb1, emb2):\n",
        "    \"\"\"\n",
        "    emb1, emb2: (B, D)\n",
        "    Returns: (B,) Euclidean distances\n",
        "    \"\"\"\n",
        "    ### BEGIN SOLUTION\n",
        "    distances = torch.norm(emb1 - emb2, dim=1)\n",
        "    return distances\n",
        "    ### END SOLUTION\n",
        "\n",
        "# --- Test Example ---\n",
        "batch_size, dim = 4, 5\n",
        "emb1 = torch.randn(batch_size, dim)\n",
        "emb2 = torch.randn(batch_size, dim)\n",
        "\n",
        "distances = embedding_distance(emb1, emb2)\n",
        "print(\"Embeddings 1:\\n\", emb1)\n",
        "print(\"Embeddings 2:\\n\", emb2)\n",
        "print(\"Row-wise Euclidean distances:\\n\", distances)"
      ]
    },
    {
      "cell_type": "code",
      "execution_count": 16,
      "metadata": {
        "deletable": false,
        "editable": false,
        "nbgrader": {
          "cell_type": "code",
          "checksum": "648335c11ae14e8cc50d44d59d92c111",
          "grade": true,
          "grade_id": "cell-573152226a296ff5",
          "locked": true,
          "points": 1,
          "schema_version": 3,
          "solution": false,
          "task": false
        },
        "id": "jwbgPwzk1NXV"
      },
      "outputs": [],
      "source": [
        "# INTENTIONALLY LEFT BLANK"
      ]
    },
    {
      "cell_type": "markdown",
      "metadata": {
        "id": "rvJpU1PzgoW9"
      },
      "source": [
        "## Exercise 2: Energy-Based Models (4 points)\n",
        "\n"
      ]
    },
    {
      "cell_type": "markdown",
      "metadata": {
        "id": "mv0zfS0_goW9"
      },
      "source": [
        "### Task 2a (2 points): Define Energy Function\n",
        "\n",
        "Energy function for binary classification: E(x,y;w)=−y⋅(w⋅x)"
      ]
    },
    {
      "cell_type": "code",
      "execution_count": 17,
      "metadata": {
        "deletable": false,
        "id": "SY9khBpkgoW9",
        "nbgrader": {
          "cell_type": "code",
          "checksum": "06208d8242cab84fd9ad1d09c6f42684",
          "grade": false,
          "grade_id": "Ex-2-Task-1",
          "locked": false,
          "schema_version": 3,
          "solution": true,
          "task": false
        },
        "outputId": "a9c8af37-7681-482f-babb-8db203019bad",
        "colab": {
          "base_uri": "https://localhost:8080/"
        }
      },
      "outputs": [
        {
          "output_type": "stream",
          "name": "stdout",
          "text": [
            "Energy: tensor(-7.1856)\n"
          ]
        }
      ],
      "source": [
        "### Ex-2-Task-1\n",
        "def energy_function(x, y, w):\n",
        "    \"\"\"\n",
        "    x: (784,), y: +1/-1, w: (784,)\n",
        "    Returns: scalar energy\n",
        "    \"\"\"\n",
        "    ### BEGIN SOLUTION\n",
        "    energy = -y * torch.dot(w, x)\n",
        "    return energy\n",
        "    ### END SOLUTION\n",
        "\n",
        "# Test\n",
        "x = torch.randn(784)\n",
        "w = torch.randn(784)\n",
        "y = 1\n",
        "print(\"Energy:\", energy_function(x, y, w))"
      ]
    },
    {
      "cell_type": "code",
      "execution_count": 18,
      "metadata": {
        "deletable": false,
        "editable": false,
        "nbgrader": {
          "cell_type": "code",
          "checksum": "7787ac6e7aa6e8128e1f8ee10df5672e",
          "grade": true,
          "grade_id": "cell-5a43327705b79dec",
          "locked": true,
          "points": 2,
          "schema_version": 3,
          "solution": false,
          "task": false
        },
        "id": "vA5l2x_f1NXV"
      },
      "outputs": [],
      "source": [
        "# INTENTIONALLY LEFT BLANK"
      ]
    },
    {
      "cell_type": "markdown",
      "metadata": {
        "id": "rq8nixpbgoW-"
      },
      "source": [
        "### Task 2b (2 points): Perceptron Loss (2 point)\n",
        "\n",
        "Compute perceptron loss: max(0, E(x, y_true) - E(x, y_pred))"
      ]
    },
    {
      "cell_type": "code",
      "execution_count": 19,
      "metadata": {
        "deletable": false,
        "nbgrader": {
          "cell_type": "code",
          "checksum": "33d29141aba0944ab0d3476766ff7973",
          "grade": false,
          "grade_id": "cell-78857c2b928aea6e",
          "locked": false,
          "schema_version": 3,
          "solution": true,
          "task": false
        },
        "colab": {
          "base_uri": "https://localhost:8080/"
        },
        "id": "0yzO6zUU1NXW",
        "outputId": "790855ad-9350-4ca6-fdb5-ce92af6630c3"
      },
      "outputs": [
        {
          "output_type": "stream",
          "name": "stdout",
          "text": [
            "Perceptron loss: tensor(0.)\n"
          ]
        }
      ],
      "source": [
        "### Ex-2-Task-2\n",
        "def perceptron_loss(x, y_true, y_pred, w):\n",
        "    \"\"\"\n",
        "    x: (784,), y_true, y_pred: +1/-1\n",
        "    w: (784,)\n",
        "    Returns: scalar loss\n",
        "    \"\"\"\n",
        "    ### BEGIN SOLUTION\n",
        "    e_true = energy_function(x, y_true, w)\n",
        "    e_pred = energy_function(x, y_pred, w)\n",
        "    loss = torch.clamp(e_true - e_pred, min=0)\n",
        "    return loss\n",
        "    ### END SOLUTION\n",
        "\n",
        "# Test\n",
        "print(\"Perceptron loss:\", perceptron_loss(x, 1, -1, w))"
      ]
    },
    {
      "cell_type": "code",
      "execution_count": 20,
      "metadata": {
        "deletable": false,
        "editable": false,
        "nbgrader": {
          "cell_type": "code",
          "checksum": "7d2333a9cae081bf775d120bbde6fcda",
          "grade": true,
          "grade_id": "cell-64ea3ccda409466e",
          "locked": true,
          "points": 2,
          "schema_version": 3,
          "solution": false,
          "task": false
        },
        "id": "lZA8NGl21NXW"
      },
      "outputs": [],
      "source": [
        "# INTENTIONALLY LEFT BLANK"
      ]
    }
  ],
  "metadata": {
    "colab": {
      "provenance": [],
      "gpuType": "T4",
      "include_colab_link": true
    },
    "kernelspec": {
      "display_name": "Python 3",
      "name": "python3"
    },
    "language_info": {
      "codemirror_mode": {
        "name": "ipython",
        "version": 3
      },
      "file_extension": ".py",
      "mimetype": "text/x-python",
      "name": "python",
      "nbconvert_exporter": "python",
      "pygments_lexer": "ipython3",
      "version": "3.10.9"
    },
    "accelerator": "GPU"
  },
  "nbformat": 4,
  "nbformat_minor": 0
}